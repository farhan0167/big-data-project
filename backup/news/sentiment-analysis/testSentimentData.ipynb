{
 "cells": [
  {
   "cell_type": "code",
   "execution_count": 45,
   "metadata": {},
   "outputs": [],
   "source": [
    "import requests, datetime\n",
    "from pymongo import MongoClient"
   ]
  },
  {
   "cell_type": "code",
   "execution_count": 85,
   "metadata": {},
   "outputs": [],
   "source": [
    "client = MongoClient('mongodb://localhost:27018') #connect to sentiment db\n",
    "db = client.test_db\n"
   ]
  },
  {
   "cell_type": "code",
   "execution_count": 86,
   "metadata": {},
   "outputs": [
    {
     "data": {
      "text/plain": [
       "[]"
      ]
     },
     "execution_count": 86,
     "metadata": {},
     "output_type": "execute_result"
    }
   ],
   "source": [
    "#make sure there are no collections\n",
    "db.list_collection_names()"
   ]
  },
  {
   "cell_type": "code",
   "execution_count": 48,
   "metadata": {},
   "outputs": [],
   "source": [
    "#if there's a test db, remove it\n",
    "#drop collection\n",
    "for collection in db.list_collection_names():\n",
    "    if collection == 'test':\n",
    "        db[collection].drop()"
   ]
  },
  {
   "cell_type": "code",
   "execution_count": 49,
   "metadata": {},
   "outputs": [
    {
     "data": {
      "text/plain": [
       "[]"
      ]
     },
     "execution_count": 49,
     "metadata": {},
     "output_type": "execute_result"
    }
   ],
   "source": [
    "#make sure there are no collections\n",
    "db.list_collection_names()"
   ]
  },
  {
   "cell_type": "code",
   "execution_count": 41,
   "metadata": {},
   "outputs": [],
   "source": [
    "collection = db.test"
   ]
  },
  {
   "cell_type": "code",
   "execution_count": 70,
   "metadata": {},
   "outputs": [],
   "source": [
    "transformed_data = [\n",
    "{'date': '04-27-2023', 'news': 'Bed Bath & Beyond came out of the 2008 downturn a winner. While competitors like Sharper Image and Linens ’n Things filed for bankruptcy, Bed Bath & Beyond actually expanded its business by acquiring other retailers. Its home-goods emporiums full of towels and kitchen aids — all available at a reduced price with that Big Blue coupon — were beacons that kept shoppers coming back.', 'entities': ['Bed Bath & Beyond', 'Sharper Image', 'Linens ’ n Things', 'Bed Bath & Beyond'], 'search_term': 'Stock Market', 'source': 'nyt'},\n",
    "{'date': '04-23-2023', 'news': 'While competitors like Sharper Image and Linens ’n Things filed for bankruptcy, Bed Bath & Beyond actually expanded its business by acquiring other retailers. Its home-goods emporiums full of towels and kitchen aids — all available at a reduced price with that Big Blue coupon — were beacons that kept shoppers coming back.', 'entities': ['Bed Bath & Beyond', 'Sharper Image', 'Linens ’ n Things', 'Bed Bath & Beyond'], 'search_term': 'Stock Market', 'source': 'nyt'},\n",
    "{'date': '04-23-2023', 'news': 'Those who invested in International Business Machines (NYSE:IBM) five years ago are up 14%', 'entities': ['International Business Machines', 'IBM'], 'search_term': 'IBM', 'source': 'yfinance'},\n",
    "{'date': '04-23-2023', 'news': 'Those who invested in International Business Machines (NYSE:IBM) 10 years ago are up 12224%', 'entities': ['International Business Machines', 'IBM'], 'search_term': 'IBM', 'source': 'yfinance'}\n",
    "\n",
    "]"
   ]
  },
  {
   "cell_type": "code",
   "execution_count": 61,
   "metadata": {},
   "outputs": [],
   "source": [
    "from transformers import AutoTokenizer, AutoModelForSequenceClassification\n",
    "import torch"
   ]
  },
  {
   "cell_type": "code",
   "execution_count": 62,
   "metadata": {},
   "outputs": [],
   "source": [
    "tokenizer = AutoTokenizer.from_pretrained(\"ProsusAI/finbert\")\n",
    "model = AutoModelForSequenceClassification.from_pretrained(\"ProsusAI/finbert\")"
   ]
  },
  {
   "cell_type": "code",
   "execution_count": 63,
   "metadata": {},
   "outputs": [
    {
     "data": {
      "text/plain": [
       "[{'Headline': 'Bed Bath & Beyond came out of the 2008 downturn a winner. While competitors like Sharper Image and Linens ’n Things filed for bankruptcy, Bed Bath & Beyond actually expanded its business by acquiring other retailers. Its home-goods emporiums full of towels and kitchen aids — all available at a reduced price with that Big Blue coupon — were beacons that kept shoppers coming back.',\n",
       "  'positive': 0.44310519099235535,\n",
       "  'negative': 0.022097798064351082,\n",
       "  'neutral': 0.5347970128059387,\n",
       "  'date': '04-23-2023',\n",
       "  'search_term': 'Stock Market',\n",
       "  'source': 'nyt'},\n",
       " {'Headline': 'Those who invested in International Business Machines (NYSE:IBM) five years ago are up 14%',\n",
       "  'positive': 0.8855618834495544,\n",
       "  'negative': 0.015177002176642418,\n",
       "  'neutral': 0.09926115721464157,\n",
       "  'date': '04-23-2023',\n",
       "  'search_term': 'IBM',\n",
       "  'source': 'yfinance'},\n",
       " {'Headline': 'Those who invested in International Business Machines (NYSE:IBM) 10 years ago are up 12224%',\n",
       "  'positive': 0.7396247386932373,\n",
       "  'negative': 0.014331826008856297,\n",
       "  'neutral': 0.24604347348213196,\n",
       "  'date': '04-23-2023',\n",
       "  'search_term': 'IBM',\n",
       "  'source': 'yfinance'}]"
      ]
     },
     "execution_count": 63,
     "metadata": {},
     "output_type": "execute_result"
    }
   ],
   "source": [
    "res = {'data': []}\n",
    "for i in range(len(transformed_data)):\n",
    "    inputs = tokenizer(transformed_data[i]['news'], padding = True, truncation = True, return_tensors='pt')\n",
    "    outputs = model(**inputs)\n",
    "    predictions = torch.nn.functional.softmax(outputs.logits, dim=-1)\n",
    "\n",
    "    positive = predictions[:, 0].tolist()\n",
    "    negative = predictions[:, 1].tolist()\n",
    "    neutral = predictions[:, 2].tolist()\n",
    "    table = {'Headline':transformed_data[i]['news'],\n",
    "        'positive': positive[0],\n",
    "        'negative': negative[0],\n",
    "        'neutral': neutral[0],\n",
    "        'date': \"04-23-2023\",\n",
    "        'search_term': transformed_data[i]['search_term'],\n",
    "        'source': transformed_data[i]['source']\n",
    "        }\n",
    "    res['data'].append(table)\n",
    "res['data']"
   ]
  },
  {
   "cell_type": "code",
   "execution_count": 64,
   "metadata": {},
   "outputs": [],
   "source": [
    "data = {\n",
    "    ''\n",
    "}"
   ]
  },
  {
   "cell_type": "code",
   "execution_count": 71,
   "metadata": {},
   "outputs": [],
   "source": [
    "from collections import defaultdict\n",
    "data  = defaultdict(dict)"
   ]
  },
  {
   "cell_type": "code",
   "execution_count": 72,
   "metadata": {},
   "outputs": [
    {
     "data": {
      "text/plain": [
       "defaultdict(dict,\n",
       "            {'04-27-2023': {'Stock Market': {'avg_sentiment': [],\n",
       "               'news': [{'Headline': 'Bed Bath & Beyond came out of the 2008 downturn a winner. While competitors like Sharper Image and Linens ’n Things filed for bankruptcy, Bed Bath & Beyond actually expanded its business by acquiring other retailers. Its home-goods emporiums full of towels and kitchen aids — all available at a reduced price with that Big Blue coupon — were beacons that kept shoppers coming back.',\n",
       "                 'sentiment': {'positive': 0.44310519099235535,\n",
       "                  'negative': 0.022097798064351082,\n",
       "                  'neutral': 0.5347970128059387},\n",
       "                 'search_term': 'Stock Market',\n",
       "                 'source': 'nyt'}]}},\n",
       "             '04-23-2023': {'Stock Market': {'avg_sentiment': [],\n",
       "               'news': [{'Headline': 'While competitors like Sharper Image and Linens ’n Things filed for bankruptcy, Bed Bath & Beyond actually expanded its business by acquiring other retailers. Its home-goods emporiums full of towels and kitchen aids — all available at a reduced price with that Big Blue coupon — were beacons that kept shoppers coming back.',\n",
       "                 'sentiment': {'positive': 0.47295746207237244,\n",
       "                  'negative': 0.017417220398783684,\n",
       "                  'neutral': 0.5096253156661987},\n",
       "                 'search_term': 'Stock Market',\n",
       "                 'source': 'nyt'}]},\n",
       "              'IBM': {'avg_sentiment': [],\n",
       "               'news': [{'Headline': 'Those who invested in International Business Machines (NYSE:IBM) five years ago are up 14%',\n",
       "                 'sentiment': {'positive': 0.8855618834495544,\n",
       "                  'negative': 0.015177002176642418,\n",
       "                  'neutral': 0.09926115721464157},\n",
       "                 'search_term': 'IBM',\n",
       "                 'source': 'yfinance'},\n",
       "                {'Headline': 'Those who invested in International Business Machines (NYSE:IBM) 10 years ago are up 12224%',\n",
       "                 'sentiment': {'positive': 0.7396247386932373,\n",
       "                  'negative': 0.014331826008856297,\n",
       "                  'neutral': 0.24604347348213196},\n",
       "                 'search_term': 'IBM',\n",
       "                 'source': 'yfinance'}]}}})"
      ]
     },
     "execution_count": 72,
     "metadata": {},
     "output_type": "execute_result"
    }
   ],
   "source": [
    "res = []\n",
    "for i in range(len(transformed_data)):\n",
    "    if transformed_data[i]['date'] not in data:\n",
    "        data[ transformed_data[i]['date'] ] = {}\n",
    "    if transformed_data[i]['search_term'] not in data[ transformed_data[i]['date'] ]:\n",
    "        data[ transformed_data[i]['date'] ][ transformed_data[i]['search_term'] ] = {\n",
    "            'avg_sentiment': [],\n",
    "            'news': []\n",
    "        }\n",
    "\n",
    "    inputs = tokenizer(transformed_data[i]['news'], padding = True, truncation = True, return_tensors='pt')\n",
    "    outputs = model(**inputs)\n",
    "    predictions = torch.nn.functional.softmax(outputs.logits, dim=-1)\n",
    "\n",
    "    positive = predictions[:, 0].tolist()\n",
    "    negative = predictions[:, 1].tolist()\n",
    "    neutral = predictions[:, 2].tolist()\n",
    "    sentiment_data = {'Headline':transformed_data[i]['news'],\n",
    "        'sentiment': {\n",
    "            'positive': positive[0],\n",
    "            'negative': negative[0],\n",
    "            'neutral': neutral[0] \n",
    "        },\n",
    "        'source': transformed_data[i]['source']\n",
    "    }\n",
    "    data[ transformed_data[i]['date'] ][ transformed_data[i]['search_term'] ]['news'].append(sentiment_data)\n",
    "data"
   ]
  },
  {
   "cell_type": "code",
   "execution_count": 43,
   "metadata": {},
   "outputs": [],
   "source": [
    "query = {\n",
    "    \"name\": {'$eq': 'Stock Market'}\n",
    "}"
   ]
  },
  {
   "cell_type": "code",
   "execution_count": 44,
   "metadata": {},
   "outputs": [
    {
     "name": "stdout",
     "output_type": "stream",
     "text": [
      "{'_id': ObjectId('6446e2c98a9640333d7df86e'), 'name': 'Stock Market', 'data': [{'Headline': 'Bed Bath & Beyond came out of the 2008 downturn a winner. While competitors like Sharper Image and Linens ’n Things filed for bankruptcy, Bed Bath & Beyond actually expanded its business by acquiring other retailers. Its home-goods emporiums full of towels and kitchen aids — all available at a reduced price with that Big Blue coupon — were beacons that kept shoppers coming back.', 'positive': 0.44310519099235535, 'negative': 0.022097798064351082, 'neutral': 0.5347970128059387, 'date': '04-27-2023', 'search_term': 'Stock Market', 'source': 'nyt'}]}\n"
     ]
    }
   ],
   "source": [
    "for doc in collection.find(query):\n",
    "    print(doc)"
   ]
  },
  {
   "cell_type": "code",
   "execution_count": null,
   "metadata": {},
   "outputs": [],
   "source": []
  },
  {
   "cell_type": "code",
   "execution_count": 101,
   "metadata": {},
   "outputs": [],
   "source": [
    "client = MongoClient('mongodb://localhost:27018') #connect to sentiment db\n",
    "db = client.test_db\n"
   ]
  },
  {
   "cell_type": "code",
   "execution_count": 102,
   "metadata": {},
   "outputs": [
    {
     "data": {
      "text/plain": [
       "[]"
      ]
     },
     "execution_count": 102,
     "metadata": {},
     "output_type": "execute_result"
    }
   ],
   "source": [
    "#make sure there are no collections\n",
    "db.list_collection_names()"
   ]
  },
  {
   "cell_type": "code",
   "execution_count": 103,
   "metadata": {},
   "outputs": [],
   "source": [
    "#if there's a test db, remove it\n",
    "#drop collection\n",
    "for collection in db.list_collection_names():\n",
    "    if collection == 'test':\n",
    "        db[collection].drop()"
   ]
  },
  {
   "cell_type": "code",
   "execution_count": 104,
   "metadata": {},
   "outputs": [
    {
     "data": {
      "text/plain": [
       "[]"
      ]
     },
     "execution_count": 104,
     "metadata": {},
     "output_type": "execute_result"
    }
   ],
   "source": [
    "#make sure there are no collections\n",
    "db.list_collection_names()"
   ]
  },
  {
   "cell_type": "code",
   "execution_count": 105,
   "metadata": {},
   "outputs": [],
   "source": [
    "collection = db.test"
   ]
  },
  {
   "cell_type": "code",
   "execution_count": 106,
   "metadata": {},
   "outputs": [
    {
     "name": "stdout",
     "output_type": "stream",
     "text": [
      "{'message': 'Data push to sentiment DB- Succeded'}\n"
     ]
    }
   ],
   "source": [
    "#call endpoint to run sentiment\n",
    "#make sure the extraction flask app is listening on port 8001\n",
    "url = 'http://localhost:8002/sentiment'\n",
    "\n",
    "response = requests.get(url)\n",
    "\n",
    "print(response.json())"
   ]
  },
  {
   "cell_type": "code",
   "execution_count": 107,
   "metadata": {},
   "outputs": [
    {
     "name": "stdout",
     "output_type": "stream",
     "text": [
      "{'_id': ObjectId('6446fa468a9640333d7e0271'), 'date': '04-23-2023', 'data': {'04-23-2023': {'Stock Market': {'avg_sentiment': [], 'news': [{'Headline': 'Bed Bath & Beyond came out of the 2008 downturn a winner. While competitors like Sharper Image and Linens ’n Things filed for bankruptcy, Bed Bath & Beyond actually expanded its business by acquiring other retailers. Its home-goods emporiums full of towels and kitchen aids — all available at a reduced price with that Big Blue coupon — were beacons that kept shoppers coming back.', 'sentiment': {'positive': 0.44310519099235535, 'negative': 0.022097798064351082, 'neutral': 0.5347970128059387}, 'source': 'nyt'}]}, 'IBM': {'avg_sentiment': [], 'news': [{'Headline': 'Those who invested in International Business Machines (NYSE:IBM) five years ago are up 14%', 'sentiment': {'positive': 0.8855618834495544, 'negative': 0.015177002176642418, 'neutral': 0.09926115721464157}, 'source': 'yfinance'}]}}}}\n"
     ]
    }
   ],
   "source": [
    "for doc in collection.find():\n",
    "    print(doc)"
   ]
  },
  {
   "cell_type": "code",
   "execution_count": null,
   "metadata": {},
   "outputs": [],
   "source": []
  }
 ],
 "metadata": {
  "kernelspec": {
   "display_name": "venv",
   "language": "python",
   "name": "python3"
  },
  "language_info": {
   "codemirror_mode": {
    "name": "ipython",
    "version": 3
   },
   "file_extension": ".py",
   "mimetype": "text/x-python",
   "name": "python",
   "nbconvert_exporter": "python",
   "pygments_lexer": "ipython3",
   "version": "3.10.10"
  },
  "orig_nbformat": 4,
  "vscode": {
   "interpreter": {
    "hash": "144286843eae87eba92616ffd8565717281575149749e5dfe4b0fd49c55567d1"
   }
  }
 },
 "nbformat": 4,
 "nbformat_minor": 2
}
