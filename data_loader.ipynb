{
 "cells": [
  {
   "cell_type": "markdown",
   "id": "a85649c7",
   "metadata": {},
   "source": [
    "# 1. Load Libraries"
   ]
  },
  {
   "cell_type": "markdown",
   "id": "fd0ad117",
   "metadata": {},
   "source": [
    "## 1.1 Installation"
   ]
  },
  {
   "cell_type": "code",
   "execution_count": 424,
   "id": "550dadc5",
   "metadata": {},
   "outputs": [],
   "source": [
    "#import yfinance as yf\n",
    "#!pip install --upgrade pip\n",
    "#!pip install psycopg2-binary\n",
    "#!pip install psycopg2"
   ]
  },
  {
   "cell_type": "markdown",
   "id": "9f4bf9a0",
   "metadata": {},
   "source": [
    "## 1.2 Load Libraries"
   ]
  },
  {
   "cell_type": "code",
   "execution_count": 425,
   "id": "36d09e07",
   "metadata": {},
   "outputs": [],
   "source": [
    "import yfinance as yf\n",
    "from datetime import date\n",
    "import psycopg2\n",
    "import json\n",
    "from pandas_datareader import data as pdr"
   ]
  },
  {
   "cell_type": "markdown",
   "id": "2d271188",
   "metadata": {},
   "source": [
    "# 2. Connect to PostgresDB"
   ]
  },
  {
   "cell_type": "markdown",
   "id": "49be5874",
   "metadata": {},
   "source": [
    "### docker inspect postgres\n",
    "### docker run --name postgres -e POSTGRES_PASSWORD=123 -d postgres"
   ]
  },
  {
   "cell_type": "code",
   "execution_count": 432,
   "id": "f855d6e3",
   "metadata": {},
   "outputs": [
    {
     "name": "stdout",
     "output_type": "stream",
     "text": [
      "Connecting to the PostgreSQL database...\n",
      "PostgreSQL database version:\n",
      "('PostgreSQL 15.2 (Debian 15.2-1.pgdg110+1) on aarch64-unknown-linux-gnu, compiled by gcc (Debian 10.2.1-6) 10.2.1 20210110, 64-bit',)\n"
     ]
    }
   ],
   "source": [
    "cur = None;\n",
    "conn = None;\n",
    "def connectToDB(): \n",
    "    global cur;\n",
    "    global conn;\n",
    "    cred = {\"host\":\"localhost\",\"port\":\"5432\",\"database\":\"postgres\",\"user\":\"postgres\",\"password\":\"123\"}\n",
    "    print('Connecting to the PostgreSQL database...')\n",
    "    conn = psycopg2.connect(\n",
    "        host=cred[\"host\"],\n",
    "        port=cred['port'],\n",
    "        database=cred[\"database\"],\n",
    "        user=cred[\"user\"],\n",
    "        password=cred[\"password\"])\n",
    "\n",
    "    # create a cursor\n",
    "    cur = conn.cursor()\n",
    "\n",
    "connectToDB();\n",
    "# execute a statement\n",
    "print('PostgreSQL database version:')\n",
    "cur.execute('SELECT version()')\n",
    "# display the PostgreSQL database server version\n",
    "db_version = cur.fetchone()\n",
    "print(db_version)"
   ]
  },
  {
   "cell_type": "markdown",
   "id": "e9a066e5",
   "metadata": {},
   "source": [
    "# 3. Downloading Data"
   ]
  },
  {
   "cell_type": "markdown",
   "id": "137e9567",
   "metadata": {},
   "source": [
    "## 3.1 Utility Functions"
   ]
  },
  {
   "cell_type": "code",
   "execution_count": 427,
   "id": "e50808b1",
   "metadata": {},
   "outputs": [],
   "source": [
    "def doesTableExist(tablename):\n",
    "    checkExistCmd = \"select exists(select * from information_schema.tables where table_name='\"+tablename+\"')\"\n",
    "    cur.execute(checkExistCmd)\n",
    "    return cur.fetchone()[0]\n",
    "    \n",
    "def dropTable(tablename):\n",
    "    dropCmd = \"DROP TABLE \"+tablename+\";\";\n",
    "    cur.execute(dropCmd)\n",
    "    conn.commit()"
   ]
  },
  {
   "cell_type": "code",
   "execution_count": 428,
   "id": "e207b23a",
   "metadata": {},
   "outputs": [],
   "source": [
    "# Dropping Tables (Optional)\n",
    "# dropTable(\"daily_prices\")\n",
    "# dropTable(\"predicted_daily_prices\")\n",
    "# dropTable(\"tickers\")"
   ]
  },
  {
   "cell_type": "code",
   "execution_count": 429,
   "id": "93c0191c",
   "metadata": {},
   "outputs": [],
   "source": [
    "NEW_INSTALLATION = True\n",
    "if doesTableExist(\"tickers\"): \n",
    "    NEW_INSTALLATION = False\n",
    "\n",
    "if NEW_INSTALLATION:\n",
    "    # tickers Table\n",
    "    createCmd = \"\"\" CREATE TABLE tickers (\n",
    "                t_id SERIAL PRIMARY KEY,\n",
    "                t_name VARCHAR(5),\n",
    "                t_full_name VARCHAR(255)\n",
    "                )\n",
    "            \"\"\" \n",
    "    cur.execute(createCmd)\n",
    "    conn.commit()\n",
    "    \n",
    "    # Daily Prices Table\n",
    "    createCmd = \"\"\" CREATE TABLE daily_prices (\n",
    "                date DATE,\n",
    "                ticker_id SERIAL,\n",
    "                open DECIMAL,\n",
    "                high DECIMAL,\n",
    "                low DECIMAL,\n",
    "                close DECIMAL,\n",
    "                adj_close DECIMAL,\n",
    "                volume REAL,\n",
    "                PRIMARY KEY(date,ticker_id),\n",
    "                CONSTRAINT fk_dp_ticker FOREIGN KEY(ticker_id) REFERENCES tickers(t_id)\n",
    "                )\n",
    "            \"\"\"  \n",
    "    \n",
    "    cur.execute(createCmd)\n",
    "    conn.commit()\n",
    "    \n",
    "    # Predict Prices\n",
    "    createCmd = \"\"\" CREATE TABLE predicted_daily_prices (\n",
    "                date DATE,\n",
    "                ticker_id SERIAL,\n",
    "                predicted DECIMAL,\n",
    "                PRIMARY KEY(date,ticker_id),\n",
    "                CONSTRAINT fk_pdp_ticker FOREIGN KEY(ticker_id) REFERENCES tickers(t_id)\n",
    "                )\n",
    "            \"\"\"  \n",
    "    \n",
    "    cur.execute(createCmd)\n",
    "    conn.commit()"
   ]
  },
  {
   "cell_type": "markdown",
   "id": "4d04f94f",
   "metadata": {},
   "source": [
    "# 4. Downloading Data (One Time)"
   ]
  },
  {
   "cell_type": "markdown",
   "id": "a80fca29",
   "metadata": {},
   "source": [
    "## 4.1 DB Utility Functions "
   ]
  },
  {
   "cell_type": "code",
   "execution_count": 430,
   "id": "1335fdab",
   "metadata": {},
   "outputs": [],
   "source": [
    "def addTickerToDB(ticker_name,ticker_fullname):\n",
    "    insertCmd = \"INSERT INTO tickers (t_name,t_full_name) VALUES('\"+ticker_name+\"','\"+ticker_fullname+\"') RETURNING *\";\n",
    "    cur.execute(insertCmd);\n",
    "    res = cur.fetchone();\n",
    "    return not res is None \n",
    "\n",
    "def getTickerId(ticker_name):\n",
    "    selCmd = \"SELECT * FROM tickers WHERE t_name = '\"+ticker_name+\"'\";\n",
    "    cur.execute(selCmd);\n",
    "    res = cur.fetchone();\n",
    "    return res[0];\n",
    "\n",
    "def insertDailyPrices(date,ticker_id,open,low,high,close,adj_close,volume):\n",
    "    insertCmd = \"\"\"INSERT INTO daily_prices(date,ticker_id,open,low,high,close,adj_close,volume)\n",
    "                VALUES('{date}',{ticker_id},{open},{low},{high},\n",
    "                {close},{adj_close},{volume}) RETURNING *\n",
    "                \"\"\".format(date=date,ticker_id=ticker_id,\n",
    "                           open=open,high=high,low=low,\n",
    "                           close=close,adj_close=adj_close,volume=volume);\n",
    "    cur.execute(insertCmd);\n",
    "    res = cur.fetchone();\n",
    "    return not res is None "
   ]
  },
  {
   "cell_type": "markdown",
   "id": "b2d142ad",
   "metadata": {},
   "source": [
    "## 4.2 Download"
   ]
  },
  {
   "cell_type": "code",
   "execution_count": 431,
   "id": "8023cf5d",
   "metadata": {},
   "outputs": [],
   "source": [
    "def download(tickers,start_date,end_date):\n",
    "    # enable converting stocks data to data frame\n",
    "    yf.pdr_override() # <== that's all it takes :-)\n",
    "    \n",
    "    # Loop ticker by ticker    \n",
    "    for ticker in tickers:\n",
    "        print(\"------------\")\n",
    "        print(\"Adding \"+ticker+\" to Database...\")\n",
    "        addTickerToDB(ticker,ticker) #<-- update with full name\n",
    "        t_id = getTickerId(ticker)\n",
    "        print(ticker+\" index been added to the database\");\n",
    "        \n",
    "        # download data for 10 Years!\n",
    "        data_df = pdr.get_data_yahoo(ticker, start=START_DATE, end=END_DATE)\n",
    "        # Storing data into Postgres\n",
    "        print(\"Downloading Historical Data for {ticker_name}...\".format(ticker_name=ticker))\n",
    "        \n",
    "        #cur_year = start_date.strftime(\"%Y\")\n",
    "        #cur_year = datetime.strptime(\"%Y\")\n",
    "        for datetime, row in data_df.iterrows():\n",
    "            #year = datetime.strptime(datetime,\"%Y\");\n",
    "            #if not year == cur_year:\n",
    "            #    print(\"Downloading data for {year}\".format(year))\n",
    "            #    cur_year=year;\n",
    "            \n",
    "            date = pd.to_datetime(datetime).date()\n",
    "            open_price = \"{:f}\".format(row['Open'])\n",
    "            high_price = \"{:f}\".format(row['High'])\n",
    "            low_price = \"{:f}\".format(row['Low'])\n",
    "            close_price = \"{:f}\".format(row['Close'])\n",
    "            adj_close_price = \"{:f}\".format(row['Adj Close'])\n",
    "            volume = \"{:f}\".format(row['Volume'])\n",
    "            insertDailyPrices(date,t_id,open_price,high_price,low_price,close_price,adj_close_price,volume)\n",
    "        print(\"{ticker} Historical Daily Prices been Downloaded\".format(ticker=ticker))\n",
    "            \n",
    "if NEW_INSTALLATION:\n",
    "    dow30_tickers = ['AAPL','AMGN','AXP','BP','CAT','CRM','CSCO','CVX','DIS','DOW','GS','HD','HON','IBM',\n",
    "    'INTC','JNJ','JPM','KO','MCD','MMM','MRK','MSFT','NKE','PG','TRV','UNH','V','VZ','WBA','WMT']\n",
    "    today = date.today()\n",
    "    download(dow30_tickers,'2013-01-01',today);\n",
    "    conn.commit()"
   ]
  }
 ],
 "metadata": {
  "kernelspec": {
   "display_name": "Python 3 (ipykernel)",
   "language": "python",
   "name": "python3"
  },
  "language_info": {
   "codemirror_mode": {
    "name": "ipython",
    "version": 3
   },
   "file_extension": ".py",
   "mimetype": "text/x-python",
   "name": "python",
   "nbconvert_exporter": "python",
   "pygments_lexer": "ipython3",
   "version": "3.10.0"
  }
 },
 "nbformat": 4,
 "nbformat_minor": 5
}
