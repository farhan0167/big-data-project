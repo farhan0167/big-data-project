{
 "cells": [
  {
   "cell_type": "code",
   "execution_count": 15,
   "metadata": {},
   "outputs": [],
   "source": [
    "import datetime"
   ]
  },
  {
   "cell_type": "code",
   "execution_count": 16,
   "metadata": {},
   "outputs": [],
   "source": [
    "from pymongo import MongoClient\n",
    "client = MongoClient('mongodb://localhost:27017') ## or MongoClient(\"localhost:27\")\n",
    "db = client.test_db"
   ]
  },
  {
   "attachments": {},
   "cell_type": "markdown",
   "metadata": {},
   "source": [
    "#### Lets make sure our database is empty before proceeding"
   ]
  },
  {
   "cell_type": "code",
   "execution_count": 17,
   "metadata": {},
   "outputs": [
    {
     "data": {
      "text/plain": [
       "['test']"
      ]
     },
     "execution_count": 17,
     "metadata": {},
     "output_type": "execute_result"
    }
   ],
   "source": [
    "db.list_collection_names()"
   ]
  },
  {
   "cell_type": "code",
   "execution_count": 18,
   "metadata": {},
   "outputs": [],
   "source": [
    "#drop collection\n",
    "for collection in db.list_collection_names():\n",
    "    db[collection].drop()"
   ]
  },
  {
   "cell_type": "code",
   "execution_count": 19,
   "metadata": {},
   "outputs": [
    {
     "data": {
      "text/plain": [
       "[]"
      ]
     },
     "execution_count": 19,
     "metadata": {},
     "output_type": "execute_result"
    }
   ],
   "source": [
    "#should be an empty list\n",
    "db.list_collection_names()"
   ]
  },
  {
   "attachments": {},
   "cell_type": "markdown",
   "metadata": {},
   "source": [
    "#### Lets now extract the latest news data into Mongo"
   ]
  },
  {
   "cell_type": "code",
   "execution_count": 20,
   "metadata": {},
   "outputs": [],
   "source": [
    "import requests"
   ]
  },
  {
   "cell_type": "code",
   "execution_count": 21,
   "metadata": {},
   "outputs": [
    {
     "name": "stdout",
     "output_type": "stream",
     "text": [
      "{'test': 'test'}\n"
     ]
    }
   ],
   "source": [
    "#make sure the extraction flask app is listening on port 8001\n",
    "url = 'http://localhost:8001/test'\n",
    "\n",
    "response = requests.get(url)\n",
    "\n",
    "print(response.json())"
   ]
  },
  {
   "cell_type": "code",
   "execution_count": 22,
   "metadata": {},
   "outputs": [
    {
     "name": "stdout",
     "output_type": "stream",
     "text": [
      "{'message': 'Successfully pushed data to mongo'}\n",
      "{'message': 'success'}\n",
      "{'message': 'Successfully pushed data to mongo'}\n",
      "{'message': 'Successfully pushed data to mongo'}\n"
     ]
    }
   ],
   "source": [
    "endpoints = [\n",
    "    '/',\n",
    "    '/nyt',\n",
    "    '/mediastack-gen',\n",
    "    '/yfinance'\n",
    "]\n",
    "for endpt in endpoints:\n",
    "    url = f\"http://localhost:8001\"+endpt\n",
    "    response = requests.get(url)\n",
    "    print(response.json())"
   ]
  },
  {
   "attachments": {},
   "cell_type": "markdown",
   "metadata": {},
   "source": [
    "Now that we successfully pushed the past days data on to Mongo, lets see what that looks like\n"
   ]
  },
  {
   "cell_type": "code",
   "execution_count": 23,
   "metadata": {},
   "outputs": [
    {
     "name": "stdout",
     "output_type": "stream",
     "text": [
      "{'_id': ObjectId('6446b260e1a37fad9d8b75b7'), 'date': '04-23-2023', 'news': 'Bed Bath & Beyond came out of the 2008 downturn a winner. While competitors like Sharper Image and Linens ’n Things filed for bankruptcy, Bed Bath & Beyond actually expanded its business by acquiring other retailers. Its home-goods emporiums full of towels and kitchen aids — all available at a reduced price with that Big Blue coupon — were beacons that kept shoppers coming back.', 'entities': ['Bed Bath & Beyond', 'Sharper Image', 'Linens ’ n Things', 'Bed Bath & Beyond'], 'search_term': 'Stock Market', 'source': 'nyt'}\n",
      "{'_id': ObjectId('6446b260e1a37fad9d8b75b8'), 'date': '04-21-2023', 'news': 'BuzzFeed’s decision to shut its news division — an innovator in digital journalism that published both prizewinning investigations and listicles designed to get clicks — drew many bittersweet tributes online.', 'entities': ['BuzzFeed'], 'search_term': 'Stock Market', 'source': 'nyt'}\n",
      "{'_id': ObjectId('6446b260e1a37fad9d8b75b9'), 'date': '04-21-2023', 'news': 'Every Tuesday and Friday, Ezra Klein invites you into a conversation about something that matters, like today’s episode with Matthew Desmond. Listen wherever you get your podcasts.', 'entities': [], 'search_term': 'Stock Market', 'source': 'nyt'}\n",
      "{'_id': ObjectId('6446b260e1a37fad9d8b75ba'), 'date': '04-21-2023', 'news': 'He had vowed to clean up Britain’s government after months of scandal and disarray under his predecessors. But on Friday, Prime Minister Rishi Sunak lost another top minister, as his deputy, Dominic Raab, resigned following an investigation that found he had bullied subordinates.', 'entities': [], 'search_term': 'Stock Market', 'source': 'nyt'}\n",
      "{'_id': ObjectId('6446b261e1a37fad9d8b75bb'), 'date': '04-21-2023', 'news': '“Ghosted,” a frothy spy-thriller rom-com in the tradition of “Romancing the Stone” and “The Jewel of the Nile,” is one of the least convincing movies I have ever seen. I don’t just mean that the dialogue is trite and phony, or that the characters feel inauthentic, or that the action is badly choreographed, or even that the plot is paper-thin and contrived, although all of this is regrettably true.', 'entities': [], 'search_term': 'Apple', 'source': 'nyt'}\n",
      "{'_id': ObjectId('6446b261e1a37fad9d8b75bc'), 'date': '04-21-2023', 'news': 'According to the Center on Poverty and Social Policy at Columbia University, 14.3 percent of Americans — nearly 50 million people — were living in poverty in December. The scale of poverty in the U.S. dwarfs that of most of our peer countries. And it raises the question: Why does so much poverty persist in one of the richest countries in the world?', 'entities': ['Center on Poverty and Social Policy', 'Columbia University'], 'search_term': 'Apple', 'source': 'nyt'}\n",
      "{'_id': ObjectId('6446b261e1a37fad9d8b75bd'), 'date': '04-21-2023', 'news': 'David Grann is one of the top narrative nonfiction writers at work today; a staff writer at The New Yorker, he has previously combined a flair for adventure writing with deep historical research in acclaimed books including “The Lost City of Z” and “Killers of the Flower Moon.” His latest, “The Wager,” applies those talents to a seafaring tale of mutiny and murder, reconstructing the fate of a lost British man-of-war that foundered on an island off the coast of Patagonia in the 18th century. On this week’s podcast, Grann tells the host Gilbert Cruz that one of the things that most drew him to the subject was the role that storytelling itself played in the tragedy’s aftermath.', 'entities': ['The New Yorker'], 'search_term': 'Apple', 'source': 'nyt'}\n",
      "{'_id': ObjectId('6446b261e1a37fad9d8b75be'), 'date': '04-21-2023', 'news': 'Just as there is no one right way to simmer up a marinara sauce, nor a single “correct” apple pie, there are myriad recipes for making bulgogi.', 'entities': [], 'search_term': 'Apple', 'source': 'nyt'}\n",
      "{'_id': ObjectId('6446b261e1a37fad9d8b75bf'), 'date': '04-23-2023', 'news': 'One Sunday in February, in a northern Italian town called Ivrea, the facades of historic buildings were covered with plastic sheeting and nets. And in several different piazzas, hundreds of wooden crates had appeared. Inside them were oranges. Oranges, the fruit.', 'entities': [], 'search_term': 'Apple', 'source': 'nyt'}\n",
      "{'_id': ObjectId('6446b261e1a37fad9d8b75c0'), 'date': '04-21-2023', 'news': 'Last week, a 21-year-old airman from Massachusetts, Jack Teixeira, was arrested under the Espionage Act and charged with violating federal laws by sharing top secret military documents with an online gaming group.', 'entities': [], 'search_term': 'Apple', 'source': 'nyt'}\n",
      "{'_id': ObjectId('6446b261e1a37fad9d8b75c1'), 'date': '04-22-2023', 'news': 'Andrew here. You probably received today’s DealBook newsletter, as you always do, by email. But you probably got a bunch of spam and junk mail in your inbox, too.', 'entities': [], 'search_term': 'Apple', 'source': 'nyt'}\n",
      "{'_id': ObjectId('6446b261e1a37fad9d8b75c2'), 'date': '04-21-2023', 'news': 'BuzzFeed’s decision to shut its news division — an innovator in digital journalism that published both prizewinning investigations and listicles designed to get clicks — drew many bittersweet tributes online.', 'entities': ['BuzzFeed'], 'search_term': 'Apple', 'source': 'nyt'}\n",
      "{'_id': ObjectId('6446b261e1a37fad9d8b75c3'), 'date': '04-21-2023', 'news': 'Almost a decade ago, when Lorraine Toussaint auditioned to play Vee Parker, a character who figured prominently in the second season of the Netflix series “Orange Is the New Black,” the gig was designated a “local hire” by the production company.', 'entities': [], 'search_term': 'Apple', 'source': 'nyt'}\n",
      "{'_id': ObjectId('6446b261e1a37fad9d8b75c4'), 'date': '04-21-2023', 'news': 'It’s a good time to have cash savings.', 'entities': [], 'search_term': 'Apple', 'source': 'nyt'}\n",
      "{'_id': ObjectId('6446b263e1a37fad9d8b75c5'), 'date': '04-23-2023', 'news': '“How can a nation founded on the homelands of dispossessed Indigenous peoples be the world’s most exemplary democracy?” This is the provocative question with which Ned Blackhawk opens his important new book, “The Rediscovery of America: Native Peoples and the Unmaking of U.S. History.” A historian at Yale and a member of the Te-Moak Tribe of Western Shoshone, Blackhawk rejects the myth that Native Americans fell quick and easy victims to European invaders. Instead, he asserts that “American Indians were central to every century of U.S. historical development.”', 'entities': ['Yale', 'Te - Moak Tribe'], 'search_term': 'American Express', 'source': 'nyt'}\n",
      "{'_id': ObjectId('6446b263e1a37fad9d8b75c6'), 'date': '04-23-2023', 'news': 'I must have overslept the day most Black people learned the electric slide in the early ’90s. In the time before YouTube, you had to master dances by waiting for the music video to be played on Black Entertainment Television, then practice the moves with your friends. But I kept missing it. I didn’t think it was that big a deal. It was a fad, sure to be replaced by the next craze.', 'entities': ['YouTube', 'Black Entertainment Television'], 'search_term': 'American Express', 'source': 'nyt'}\n",
      "{'_id': ObjectId('6446b263e1a37fad9d8b75c7'), 'date': '04-21-2023', 'news': 'RAMSTEIN AIR BASE, Germany — Ukrainian troops will begin training on American M1 Abrams tanks in Germany in the next few weeks, U.S. defense officials say, in what would be a major step in arming Kyiv as it seeks to seize back territory from Russia.', 'entities': ['RAMSTEIN AIR'], 'search_term': 'American Express', 'source': 'nyt'}\n",
      "{'_id': ObjectId('6446b263e1a37fad9d8b75c8'), 'date': '04-23-2023', 'news': 'On June 26, 2018, our family experienced one of the most terrifying nights of our lives. It began with a strange and chilling direct message to our son — an image of three Klan hoods. That was strange enough, but sadly not all that surprising. From the moment that I’d first expressed opposition to Donald Trump and Trumpism, our multiracial family (my youngest daughter, who is adopted, is Black) had faced an avalanche of threats, doxxing and vile racism.', 'entities': [], 'search_term': 'American Express', 'source': 'nyt'}\n",
      "{'_id': ObjectId('6446b263e1a37fad9d8b75c9'), 'date': '04-21-2023', 'news': 'At a town hall in New Hampshire on Thursday, Chris Christie cited a long list of promises that former President Donald J. Trump failed to deliver on while in office. Above all else, however, he expressed disgust at the idea that Republicans would consider renominating Mr. Trump after he “undermined our democracy” by lying about the 2020 election and inciting the Jan. 6 attack on the Capitol.', 'entities': [], 'search_term': 'American Express', 'source': 'nyt'}\n",
      "{'_id': ObjectId('6446b263e1a37fad9d8b75ca'), 'date': '04-21-2023', 'news': 'Since moving thousands of miles apart, Cassidy Aria Melissa Benn and Marcini Anthony Grosvenor had only seen one another on five visits before getting married.', 'entities': [], 'search_term': 'American Express', 'source': 'nyt'}\n",
      "{'_id': ObjectId('6446b263e1a37fad9d8b75cb'), 'date': '04-21-2023', 'news': 'At Mother of Junk, a thrift emporium in Brooklyn, Emma Choi examined\\xa0a rubber triceratops and invented a back story for\\xa0a Miss Piggy figurine. “We should go before I buy something,” she said.', 'entities': ['Mother of Junk'], 'search_term': 'American Express', 'source': 'nyt'}\n",
      "{'_id': ObjectId('6446b263e1a37fad9d8b75cc'), 'date': '04-22-2023', 'news': 'Over the last three decades, Americans have chosen presidents who felt their pain and channeled their anger, who shattered historical barriers or seemed like enjoyable beer-drinking companions.', 'entities': [], 'search_term': 'American Express', 'source': 'nyt'}\n",
      "{'_id': ObjectId('6446b263e1a37fad9d8b75cd'), 'date': '04-22-2023', 'news': 'PLACERVILLE, Calif. — Albert Fausel spends his days at the family hardware store sorting through boxes of bolts and pacing the old, creaking floorboards to greet his loyal clientele. But on a recent sunny afternoon, he threw on his wet suit and diver’s mask and inserted himself face down in the shallow creek near his home.', 'entities': [], 'search_term': 'American Express', 'source': 'nyt'}\n",
      "{'_id': ObjectId('6446b263e1a37fad9d8b75ce'), 'date': '04-23-2023', 'news': 'Bert Ellis, with two degrees from the University of Virginia, is a loyal alumnus. He has donated more than $10 million to his alma mater, and even co-owns a campus hangout, the Spot.', 'entities': ['University of Virginia'], 'search_term': 'American Express', 'source': 'nyt'}\n",
      "{'_id': ObjectId('6446b273e1a37fad9d8b75cf'), 'date': '04-24-2023', 'news': 'RBI Imposes Rs 44 Lakh Penalty On Four Cooperative Banks', 'entities': ['RBI'], 'search_term': 'Stock Market', 'source': 'mediastack'}\n",
      "{'_id': ObjectId('6446b273e1a37fad9d8b75d0'), 'date': '04-24-2023', 'news': 'Treasury Lets Automakers Do The Math For EV Credit Eligibility', 'entities': ['Treasurys Automakers'], 'search_term': 'Stock Market', 'source': 'mediastack'}\n",
      "{'_id': ObjectId('6446b273e1a37fad9d8b75d1'), 'date': '04-24-2023', 'news': 'These\\xa0Online Detectives Have Raised $300 Million To Keep Lies From Triggering The Next Bank Run', 'entities': [], 'search_term': 'Stock Market', 'source': 'mediastack'}\n",
      "{'_id': ObjectId('6446b273e1a37fad9d8b75d2'), 'date': '04-24-2023', 'news': 'Morgan Stanley maintains Apple at Overweight with a price target of $180.00', 'entities': ['Morgan Stanley', 'Apple'], 'search_term': 'Stock Market', 'source': 'mediastack'}\n",
      "{'_id': ObjectId('6446b273e1a37fad9d8b75d3'), 'date': '04-24-2023', 'news': 'Tiger Woods-Backed Project To Build Homes In Florida Horse Town', 'entities': ['Tiger'], 'search_term': 'Stock Market', 'source': 'mediastack'}\n",
      "{'_id': ObjectId('6446b273e1a37fad9d8b75d4'), 'date': '04-24-2023', 'news': 'Citi maintains IHS Holding at Buy with a price target of $13.00', 'entities': ['Citi', 'IHS Holding'], 'search_term': 'Stock Market', 'source': 'mediastack'}\n",
      "{'_id': ObjectId('6446b273e1a37fad9d8b75d5'), 'date': '04-24-2023', 'news': 'Ukraine Latest: UN Chief Upbraids Russia As Lavrov Watches', 'entities': ['UN'], 'search_term': 'Stock Market', 'source': 'mediastack'}\n",
      "{'_id': ObjectId('6446b273e1a37fad9d8b75d6'), 'date': '04-24-2023', 'news': 'Egypt Bonds Slump After S&P Cuts Outlook On Grim Forecasts', 'entities': ['S & P'], 'search_term': 'Stock Market', 'source': 'mediastack'}\n",
      "{'_id': ObjectId('6446b273e1a37fad9d8b75d7'), 'date': '04-24-2023', 'news': 'US cities keep building luxury condos almost no one can afford', 'entities': [], 'search_term': 'Stock Market', 'source': 'mediastack'}\n",
      "{'_id': ObjectId('6446b273e1a37fad9d8b75d8'), 'date': '04-24-2023', 'news': 'SC grants CBK’s appeal to review refund claim', 'entities': ['SC', 'CBK'], 'search_term': 'Stock Market', 'source': 'mediastack'}\n",
      "{'_id': ObjectId('6446b273e1a37fad9d8b75d9'), 'date': '04-24-2023', 'news': 'DMCI Homes expands into leisure residences', 'entities': ['DMCI Homes'], 'search_term': 'Stock Market', 'source': 'mediastack'}\n",
      "{'_id': ObjectId('6446b273e1a37fad9d8b75da'), 'date': '04-24-2023', 'news': 'CTA grants part of Mitsui’s tax refund claim of around P26M', 'entities': ['CTA', 'Mitsui'], 'search_term': 'Stock Market', 'source': 'mediastack'}\n",
      "{'_id': ObjectId('6446b273e1a37fad9d8b75db'), 'date': '04-24-2023', 'news': 'Gov’t partially awards T-bills as rates rise', 'entities': [], 'search_term': 'Stock Market', 'source': 'mediastack'}\n",
      "{'_id': ObjectId('6446b273e1a37fad9d8b75dc'), 'date': '04-24-2023', 'news': 'Hasbro is in talks to sell Yellowjackets studio to its founder', 'entities': ['Hasbro', 'Yellowjackets'], 'search_term': 'Stock Market', 'source': 'mediastack'}\n",
      "{'_id': ObjectId('6446b273e1a37fad9d8b75dd'), 'date': '04-24-2023', 'news': 'Filinvest Land expects robust growth in occupancy this year', 'entities': ['Filinvest Land'], 'search_term': 'Stock Market', 'source': 'mediastack'}\n",
      "{'_id': ObjectId('6446b273e1a37fad9d8b75de'), 'date': '04-24-2023', 'news': 'Landco’s Club Laiya hosts PHL beach volleyball teams for 1 year', 'entities': ['Landco ’ s Club Laiya', 'PHL'], 'search_term': 'Stock Market', 'source': 'mediastack'}\n",
      "{'_id': ObjectId('6446b273e1a37fad9d8b75df'), 'date': '04-24-2023', 'news': 'EastWest Bank expects 2022 growth momentum to be sustained this year', 'entities': ['EastWest Bank'], 'search_term': 'Stock Market', 'source': 'mediastack'}\n",
      "{'_id': ObjectId('6446b273e1a37fad9d8b75e0'), 'date': '04-24-2023', 'news': 'Rust charges against Alec Baldwin formally dismissed', 'entities': [], 'search_term': 'Stock Market', 'source': 'mediastack'}\n",
      "{'_id': ObjectId('6446b273e1a37fad9d8b75e1'), 'date': '04-24-2023', 'news': 'Robinsons Land posts 90% income surge', 'entities': ['Robinsons Land'], 'search_term': 'Stock Market', 'source': 'mediastack'}\n",
      "{'_id': ObjectId('6446b273e1a37fad9d8b75e2'), 'date': '04-24-2023', 'news': 'Sta. Lucia touts golf courses in south Luzon', 'entities': [], 'search_term': 'Stock Market', 'source': 'mediastack'}\n",
      "{'_id': ObjectId('6446b273e1a37fad9d8b75e3'), 'date': '04-24-2023', 'news': 'Tala partners with UnionDigital Bank to launch online wallet', 'entities': ['Tala', 'UnionDigital Bank'], 'search_term': 'Stock Market', 'source': 'mediastack'}\n",
      "{'_id': ObjectId('6446b273e1a37fad9d8b75e4'), 'date': '04-24-2023', 'news': 'CoComelon is about to become a movie courtesy of universal', 'entities': [], 'search_term': 'Stock Market', 'source': 'mediastack'}\n",
      "{'_id': ObjectId('6446b273e1a37fad9d8b75e5'), 'date': '04-24-2023', 'news': 'Philippines ranks 98th in World Citizenship Report', 'entities': [], 'search_term': 'Stock Market', 'source': 'mediastack'}\n",
      "{'_id': ObjectId('6446b273e1a37fad9d8b75e6'), 'date': '04-24-2023', 'news': 'How PSEi member stocks performed — April 24, 2023', 'entities': ['PSEi'], 'search_term': 'Stock Market', 'source': 'mediastack'}\n",
      "{'_id': ObjectId('6446b273e1a37fad9d8b75e7'), 'date': '04-24-2023', 'news': 'Pilgrimage to Zambales to visit modern, heritage churches', 'entities': [], 'search_term': 'Stock Market', 'source': 'mediastack'}\n",
      "{'_id': ObjectId('6446b273e1a37fad9d8b75e8'), 'date': '04-24-2023', 'news': 'Coinbase, Opendoor Technologies among financials losers, United Insurance leads gainers', 'entities': ['Coinbase', 'Opendoor Technologies', 'United Insurance'], 'search_term': 'Stock Market', 'source': 'mediastack'}\n",
      "{'_id': ObjectId('6446b273e1a37fad9d8b75e9'), 'date': '04-24-2023', 'news': 'Michigan paper promotes King to publisher', 'entities': [], 'search_term': 'Stock Market', 'source': 'mediastack'}\n",
      "{'_id': ObjectId('6446b273e1a37fad9d8b75ea'), 'date': '04-24-2023', 'news': 'The Daily Press in Michigan names Maki publisher', 'entities': ['The Daily Press'], 'search_term': 'Stock Market', 'source': 'mediastack'}\n",
      "{'_id': ObjectId('6446b273e1a37fad9d8b75eb'), 'date': '04-24-2023', 'news': '‘Incriminating’ material must for I-T Act’s Section 153A assessment, says Supreme Court', 'entities': ['Supreme Court'], 'search_term': 'Stock Market', 'source': 'mediastack'}\n",
      "{'_id': ObjectId('6446b273e1a37fad9d8b75ec'), 'date': '04-24-2023', 'news': 'Music-generating AI: Official art? Or artificial?', 'entities': [], 'search_term': 'Stock Market', 'source': 'mediastack'}\n",
      "{'_id': ObjectId('6446b273e1a37fad9d8b75ed'), 'date': '04-24-2023', 'news': 'How to make FPOs successful', 'entities': [], 'search_term': 'Stock Market', 'source': 'mediastack'}\n",
      "{'_id': ObjectId('6446b273e1a37fad9d8b75ee'), 'date': '04-24-2023', 'news': \"Bed Bath & Beyond vows it can pull off a sale – here's what that means for shareholders\", 'entities': ['Bed Bath & Beyond'], 'search_term': 'Stock Market', 'source': 'mediastack'}\n",
      "{'_id': ObjectId('6446b273e1a37fad9d8b75ef'), 'date': '04-24-2023', 'news': 'Newsquest hires Johnson as an editor', 'entities': ['Newsquest'], 'search_term': 'Stock Market', 'source': 'mediastack'}\n",
      "{'_id': ObjectId('6446b273e1a37fad9d8b75f0'), 'date': '04-24-2023', 'news': 'CNN to debut new show with Gayle King and Charles Barkley', 'entities': ['CNN'], 'search_term': 'Stock Market', 'source': 'mediastack'}\n",
      "{'_id': ObjectId('6446b273e1a37fad9d8b75f1'), 'date': '04-24-2023', 'news': \"Top Business And Market Stories Of The Day You Can't Miss — April 24\", 'entities': [], 'search_term': 'Stock Market', 'source': 'mediastack'}\n",
      "{'_id': ObjectId('6446b273e1a37fad9d8b75f2'), 'date': '04-24-2023', 'news': 'The West’s definition of ‘happiness’ is no benchmark', 'entities': [], 'search_term': 'Stock Market', 'source': 'mediastack'}\n",
      "{'_id': ObjectId('6446b273e1a37fad9d8b75f3'), 'date': '04-24-2023', 'news': 'TIme’s new ed in chief, moves at three major networks, Charles Barkley’s CNN slam dunk', 'entities': ['TIme', 'CNN'], 'search_term': 'Stock Market', 'source': 'mediastack'}\n",
      "{'_id': ObjectId('6446b273e1a37fad9d8b75f4'), 'date': '04-24-2023', 'news': 'National World welcomes back Broomhead as senior digital journalist', 'entities': ['National World'], 'search_term': 'Stock Market', 'source': 'mediastack'}\n",
      "{'_id': ObjectId('6446b273e1a37fad9d8b75f5'), 'date': '04-24-2023', 'news': 'Sony Music Japan is doubling down on virtual talent… and it’s just chosen its next three virtual stars', 'entities': ['Sony Music Japan'], 'search_term': 'Stock Market', 'source': 'mediastack'}\n",
      "{'_id': ObjectId('6446b273e1a37fad9d8b75f6'), 'date': '04-24-2023', 'news': 'Supreme Court takes social media cases with echoes of Trump', 'entities': ['Supreme Court'], 'search_term': 'Stock Market', 'source': 'mediastack'}\n",
      "{'_id': ObjectId('6446b273e1a37fad9d8b75f7'), 'date': '04-24-2023', 'news': 'Why the Fed is right in hiking rates', 'entities': ['Fed'], 'search_term': 'Stock Market', 'source': 'mediastack'}\n",
      "{'_id': ObjectId('6446b273e1a37fad9d8b75f8'), 'date': '04-24-2023', 'news': 'ABC News taps Bruce to serve as a White House correspondent', 'entities': ['ABC News'], 'search_term': 'Stock Market', 'source': 'mediastack'}\n",
      "{'_id': ObjectId('6446b273e1a37fad9d8b75f9'), 'date': '04-24-2023', 'news': 'prime minister narendra modi kerala first vande bharat express kasaragod thiruvananthapuram central kollam kottayam ernakulam town thrissur shoranur junction', 'entities': [], 'search_term': 'Stock Market', 'source': 'mediastack'}\n",
      "{'_id': ObjectId('6446b273e1a37fad9d8b75fa'), 'date': '04-24-2023', 'news': 'Des Moines TV journalist Price departs after 22 years', 'entities': ['Des Moines TV'], 'search_term': 'Stock Market', 'source': 'mediastack'}\n",
      "{'_id': ObjectId('6446b273e1a37fad9d8b75fb'), 'date': '04-24-2023', 'news': 'BBC News appoints Herrmannsen West Africa producer', 'entities': ['BBC News'], 'search_term': 'Stock Market', 'source': 'mediastack'}\n",
      "{'_id': ObjectId('6446b273e1a37fad9d8b75fc'), 'date': '04-24-2023', 'news': 'DA Davidson maintains National Bank Holdings at Buy with a price target of $38.00', 'entities': ['DA Davidson', 'National Bank Holdings'], 'search_term': 'Stock Market', 'source': 'mediastack'}\n",
      "{'_id': ObjectId('6446b273e1a37fad9d8b75fd'), 'date': '04-24-2023', 'news': 'Fox News to Part Ways with Tucker Carlson - Reports', 'entities': ['Fox News', 'Reports'], 'search_term': 'Stock Market', 'source': 'mediastack'}\n",
      "{'_id': ObjectId('6446b273e1a37fad9d8b75fe'), 'date': '04-24-2023', 'news': 'NBC News hires Walinchus as data editor', 'entities': ['NBC News'], 'search_term': 'Stock Market', 'source': 'mediastack'}\n",
      "{'_id': ObjectId('6446b273e1a37fad9d8b75ff'), 'date': '04-24-2023', 'news': 'DA Davidson maintains OceanFirst at Buy with a price target of $20.00', 'entities': ['DA Davidson', 'OceanFirst'], 'search_term': 'Stock Market', 'source': 'mediastack'}\n",
      "{'_id': ObjectId('6446b273e1a37fad9d8b7600'), 'date': '04-24-2023', 'news': 'Savannah TV station appoints Tommy House chief meteorologist', 'entities': ['Savannah TV'], 'search_term': 'Stock Market', 'source': 'mediastack'}\n",
      "{'_id': ObjectId('6446b273e1a37fad9d8b7601'), 'date': '04-24-2023', 'news': 'CBI president admits he does not know if group will ever regain trust', 'entities': ['CBI'], 'search_term': 'Stock Market', 'source': 'mediastack'}\n",
      "{'_id': ObjectId('6446b273e1a37fad9d8b7602'), 'date': '04-24-2023', 'news': 'Thyssenkrupp CEO Martina Merz to quit; shares tank', 'entities': ['T', '##hyssenkrupp'], 'search_term': 'Stock Market', 'source': 'mediastack'}\n",
      "{'_id': ObjectId('6446b273e1a37fad9d8b7603'), 'date': '04-24-2023', 'news': 'DA Davidson maintains Old Second Bancorp at Buy with a price target of $16.00', 'entities': ['DA Davidson', 'Old Second Bancorp'], 'search_term': 'Stock Market', 'source': 'mediastack'}\n",
      "{'_id': ObjectId('6446b273e1a37fad9d8b7604'), 'date': '04-24-2023', 'news': 'Time Magazine appoints Jacobs EIC', 'entities': ['Time Magazine', 'Jacobs', 'EIC'], 'search_term': 'Stock Market', 'source': 'mediastack'}\n",
      "{'_id': ObjectId('6446b273e1a37fad9d8b7605'), 'date': '04-24-2023', 'news': 'Monetary Authority of Singapore Clears Merger Of HDFC Investments With HDFC Bank', 'entities': ['Monetary Authority of Singapore', 'HDFC Investment', 'HDFC Bank'], 'search_term': 'Stock Market', 'source': 'mediastack'}\n",
      "{'_id': ObjectId('6446b273e1a37fad9d8b7606'), 'date': '04-24-2023', 'news': 'RBI harmonises provisioning norms for urban cooperative banks', 'entities': ['RBI'], 'search_term': 'Stock Market', 'source': 'mediastack'}\n",
      "{'_id': ObjectId('6446b273e1a37fad9d8b7607'), 'date': '04-24-2023', 'news': 'DA Davidson maintains Sandy Spring at Buy with a price target of $28.00', 'entities': ['DA Davidson'], 'search_term': 'Stock Market', 'source': 'mediastack'}\n",
      "{'_id': ObjectId('6446b273e1a37fad9d8b7608'), 'date': '04-24-2023', 'news': 'The RBI has to reconcile several objectives', 'entities': ['RBI'], 'search_term': 'Stock Market', 'source': 'mediastack'}\n",
      "{'_id': ObjectId('6446b273e1a37fad9d8b7609'), 'date': '04-24-2023', 'news': 'LIC Total Premium Rises 17% To Rs 2.32 Lakh Crore In FY23', 'entities': ['LIC'], 'search_term': 'Stock Market', 'source': 'mediastack'}\n",
      "{'_id': ObjectId('6446b273e1a37fad9d8b760a'), 'date': '04-24-2023', 'news': \"US says Proud Boys were 'thirsting for violence' as Jan. 6 trial wraps up\", 'entities': [], 'search_term': 'Stock Market', 'source': 'mediastack'}\n",
      "{'_id': ObjectId('6446b273e1a37fad9d8b760b'), 'date': '04-24-2023', 'news': 'U.S.’s Russia, China sanctions have a dirty secret', 'entities': [], 'search_term': 'Stock Market', 'source': 'mediastack'}\n",
      "{'_id': ObjectId('6446b273e1a37fad9d8b760c'), 'date': '04-24-2023', 'news': 'China walks back ambassador’s remarks on post-Soviet statehood', 'entities': [], 'search_term': 'Stock Market', 'source': 'mediastack'}\n",
      "{'_id': ObjectId('6446b273e1a37fad9d8b760d'), 'date': '04-24-2023', 'news': 'Macau casino revenue continues to improve in April', 'entities': [], 'search_term': 'Stock Market', 'source': 'mediastack'}\n",
      "{'_id': ObjectId('6446b273e1a37fad9d8b760e'), 'date': '04-24-2023', 'news': \"LIC's shareholding in L&T Technology Services Ltd crosses 5 per cent\", 'entities': ['LIC', 'L & T Technology Services Ltd'], 'search_term': 'Stock Market', 'source': 'mediastack'}\n",
      "{'_id': ObjectId('6446b273e1a37fad9d8b760f'), 'date': '04-24-2023', 'news': 'Russian wheat export prices extended fall last week on low demand, analysts say', 'entities': [], 'search_term': 'Stock Market', 'source': 'mediastack'}\n",
      "{'_id': ObjectId('6446b273e1a37fad9d8b7610'), 'date': '04-24-2023', 'news': 'EPF e-passbook facility down: 3 ways to check provident fund balance while services resume on EPFO portal', 'entities': ['EPF', 'EPFO'], 'search_term': 'Stock Market', 'source': 'mediastack'}\n",
      "{'_id': ObjectId('6446b273e1a37fad9d8b7611'), 'date': '04-24-2023', 'news': 'Flight Attendants Holding Day of Action at Toronto-Pearson Airport to End Unpaid Work', 'entities': [], 'search_term': 'Stock Market', 'source': 'mediastack'}\n",
      "{'_id': ObjectId('6446b273e1a37fad9d8b7612'), 'date': '04-24-2023', 'news': 'India’s youth has the potential to change the world: Prime Minister\\xa0', 'entities': [], 'search_term': 'Stock Market', 'source': 'mediastack'}\n",
      "{'_id': ObjectId('6446b273e1a37fad9d8b7613'), 'date': '04-24-2023', 'news': 'Mydecine Reports Positive Preclinical Results on the MYCO-006 Series of its Short-Acting MDMA Analogues', 'entities': ['Mydecine Reports'], 'search_term': 'Stock Market', 'source': 'mediastack'}\n",
      "{'_id': ObjectId('6446b273e1a37fad9d8b7614'), 'date': '04-24-2023', 'news': \"IPO Alert: Public offerings worth Rs 7,000 crore set to launch after SEBI's go-ahead - Check details\", 'entities': ['IPO', 'SEBI'], 'search_term': 'Stock Market', 'source': 'mediastack'}\n",
      "{'_id': ObjectId('6446b273e1a37fad9d8b7615'), 'date': '04-24-2023', 'news': \"'Operation Kaveri' to bring back Indians from Sudan, says PM Modi\", 'entities': [], 'search_term': 'Stock Market', 'source': 'mediastack'}\n",
      "{'_id': ObjectId('6446b273e1a37fad9d8b7616'), 'date': '04-24-2023', 'news': 'Chilean peso leads Latam lower on central bank plans, lithium concerns', 'entities': ['Latam'], 'search_term': 'Stock Market', 'source': 'mediastack'}\n",
      "{'_id': ObjectId('6446b273e1a37fad9d8b7617'), 'date': '04-24-2023', 'news': 'Axis Finance, JC Flowers Have No Locus To Object To Merger With Sony, Says Zee', 'entities': ['Axis Finance', 'JC Flowers', 'Sony'], 'search_term': 'Stock Market', 'source': 'mediastack'}\n",
      "{'_id': ObjectId('6446b273e1a37fad9d8b7618'), 'date': '04-24-2023', 'news': 'Pittsburgh man goes on trial for synagogue attack, could face death penalty', 'entities': [], 'search_term': 'Stock Market', 'source': 'mediastack'}\n",
      "{'_id': ObjectId('6446b273e1a37fad9d8b7619'), 'date': '04-24-2023', 'news': 'Clearwater Paper pops 11% after RBC Capital turns bullish', 'entities': ['Clearwater Paper', 'RBC Capital'], 'search_term': 'Stock Market', 'source': 'mediastack'}\n",
      "{'_id': ObjectId('6446b273e1a37fad9d8b761a'), 'date': '04-24-2023', 'news': 'Design Collective Takes Home Seven 2023 NAUMD Image of the Year Awards', 'entities': ['Design Collective', 'ND'], 'search_term': 'Stock Market', 'source': 'mediastack'}\n",
      "{'_id': ObjectId('6446b273e1a37fad9d8b761b'), 'date': '04-24-2023', 'news': 'Amyris sees Q1 revenue $56M, consensus $60.43M', 'entities': ['Amyris'], 'search_term': 'Stock Market', 'source': 'mediastack'}\n",
      "{'_id': ObjectId('6446b273e1a37fad9d8b761c'), 'date': '04-24-2023', 'news': 'Ipca Laboratories to acquire 33 per cent stake in Unichem for 1,034 crore', 'entities': ['Ipca Laboratories', 'Unichem'], 'search_term': 'Stock Market', 'source': 'mediastack'}\n",
      "{'_id': ObjectId('6446b273e1a37fad9d8b761d'), 'date': '04-24-2023', 'news': \"Delhi High Court Asks CCI To Consider Plea By Startups Against Google's New Payment Policy\", 'entities': ['CCI', 'Google'], 'search_term': 'Stock Market', 'source': 'mediastack'}\n",
      "{'_id': ObjectId('6446b273e1a37fad9d8b761e'), 'date': '04-24-2023', 'news': 'TSX subdued on caution ahead of major US results', 'entities': ['TSX'], 'search_term': 'Stock Market', 'source': 'mediastack'}\n",
      "{'_id': ObjectId('6446b273e1a37fad9d8b761f'), 'date': '04-24-2023', 'news': 'Oppenheimer maintains Pentair at Outperform with a price target of $70.00', 'entities': [], 'search_term': 'Stock Market', 'source': 'mediastack'}\n",
      "{'_id': ObjectId('6446b273e1a37fad9d8b7620'), 'date': '04-24-2023', 'news': 'Indian Exporters Body, Business Russia Ink MoU To Promote Trade, Investments', 'entities': ['Indian Exporters Body', 'Business Russia Ink MoU'], 'search_term': 'Stock Market', 'source': 'mediastack'}\n",
      "{'_id': ObjectId('6446b273e1a37fad9d8b7621'), 'date': '04-24-2023', 'news': \"Supreme Court Must Let Legislature Decide On Same-Sex Marriage, Says Lawyers' Body\", 'entities': ['Supreme Court Legislature'], 'search_term': 'Stock Market', 'source': 'mediastack'}\n",
      "{'_id': ObjectId('6446b273e1a37fad9d8b7622'), 'date': '04-24-2023', 'news': 'Bombay High Court Points Out Lack Of Protection To Parody, Satire In Amended IT Rules', 'entities': ['Bombay High Court'], 'search_term': 'Stock Market', 'source': 'mediastack'}\n",
      "{'_id': ObjectId('6446b273e1a37fad9d8b7623'), 'date': '04-24-2023', 'news': 'Oppenheimer maintains IDEX at Outperform with a price target of $245.00', 'entities': ['IDEX'], 'search_term': 'Stock Market', 'source': 'mediastack'}\n",
      "{'_id': ObjectId('6446b273e1a37fad9d8b7624'), 'date': '04-24-2023', 'news': 'Flight Attendants Holding Day of Action at Montreal-Trudeau Airport to End Unpaid Work.', 'entities': [], 'search_term': 'Stock Market', 'source': 'mediastack'}\n",
      "{'_id': ObjectId('6446b273e1a37fad9d8b7625'), 'date': '04-24-2023', 'news': 'Short-term yields flat as debt negotiations continue; 10-year yields dip', 'entities': [], 'search_term': 'Stock Market', 'source': 'mediastack'}\n",
      "{'_id': ObjectId('6446b273e1a37fad9d8b7626'), 'date': '04-24-2023', 'news': 'Nasdaq Hits Low, Down 0.6%, S&P 500 Down 0.2%', 'entities': ['S & P'], 'search_term': 'Stock Market', 'source': 'mediastack'}\n",
      "{'_id': ObjectId('6446b273e1a37fad9d8b7627'), 'date': '04-24-2023', 'news': 'Keystone pipeline spill caused by fatigue crack, TC Energy says', 'entities': ['TC Energy'], 'search_term': 'Stock Market', 'source': 'mediastack'}\n",
      "{'_id': ObjectId('6446b273e1a37fad9d8b7628'), 'date': '04-24-2023', 'news': 'Final Days at Credit Suisse Were Marked by a $69 Billion Race for the Exits', 'entities': [], 'search_term': 'Stock Market', 'source': 'mediastack'}\n",
      "{'_id': ObjectId('6446b273e1a37fad9d8b7629'), 'date': '04-24-2023', 'news': 'LIC Shareholding In L&T Technology Services Crosses 5%', 'entities': ['LIC', 'L & T Technology Services'], 'search_term': 'Stock Market', 'source': 'mediastack'}\n",
      "{'_id': ObjectId('6446b273e1a37fad9d8b762a'), 'date': '04-24-2023', 'news': 'Navigator secures $200M of term loan', 'entities': [], 'search_term': 'Stock Market', 'source': 'mediastack'}\n",
      "{'_id': ObjectId('6446b273e1a37fad9d8b762b'), 'date': '04-24-2023', 'news': \"U.S. Bancorp stock dips after Moody's downgrades credit rating\", 'entities': ['U . S . Bancorp', \"Moody ' s\"], 'search_term': 'Stock Market', 'source': 'mediastack'}\n",
      "{'_id': ObjectId('6446b273e1a37fad9d8b762c'), 'date': '04-24-2023', 'news': 'Cytta and Megh Computing ink technology cooperation agreement', 'entities': ['Cytta', 'Megh Computing'], 'search_term': 'Stock Market', 'source': 'mediastack'}\n",
      "{'_id': ObjectId('6446b273e1a37fad9d8b762d'), 'date': '04-24-2023', 'news': 'SRH Vs DC Live Streaming: When and where to watch Sunrisers Hyderabad Vs Delhi Capitals IPL 2023 match', 'entities': ['SRH', 'DC', 'Sunrisers Hyderabad', '##s', 'Delhi CapitalsL'], 'search_term': 'Stock Market', 'source': 'mediastack'}\n",
      "{'_id': ObjectId('6446b273e1a37fad9d8b762e'), 'date': '04-24-2023', 'news': 'Super-sized screens, rumble seats draw moviegoers back to blockbusters', 'entities': [], 'search_term': 'Stock Market', 'source': 'mediastack'}\n",
      "{'_id': ObjectId('6446b273e1a37fad9d8b762f'), 'date': '04-24-2023', 'news': 'Oil Companies Rejected By Supreme Court On Climate Suits', 'entities': ['Supreme Court'], 'search_term': 'Stock Market', 'source': 'mediastack'}\n",
      "{'_id': ObjectId('6446b273e1a37fad9d8b7630'), 'date': '04-24-2023', 'news': 'Flight Attendants Holding Day of Action at Calgary Airport to End Unpaid Work', 'entities': [], 'search_term': 'Stock Market', 'source': 'mediastack'}\n",
      "{'_id': ObjectId('6446b273e1a37fad9d8b7631'), 'date': '04-24-2023', 'news': 'Heritage Financial stock slides after downgrade to Market Perform at KBW', 'entities': ['Heritage Financial', 'KBW'], 'search_term': 'Stock Market', 'source': 'mediastack'}\n",
      "{'_id': ObjectId('6446b273e1a37fad9d8b7632'), 'date': '04-24-2023', 'news': 'Crypto winter is over — and bitcoin could hit $100,000 by the end of 2024, Standard Chartered says', 'entities': ['Standard Chartered'], 'search_term': 'Stock Market', 'source': 'mediastack'}\n",
      "{'_id': ObjectId('6446b288e1a37fad9d8b7633'), 'date': '04-24-2023', 'news': 'Can Apple really help fix banking?', 'entities': ['Apple'], 'search_term': 'Apple', 'source': 'yfinance'}\n",
      "{'_id': ObjectId('6446b288e1a37fad9d8b7634'), 'date': '04-20-2023', 'news': 'Amgen (AMGN) Wins Patent Appeal for Blockbuster Psoriasis Drug', 'entities': ['Amgen', 'AMGN'], 'search_term': 'Amgen', 'source': 'yfinance'}\n",
      "{'_id': ObjectId('6446b288e1a37fad9d8b7635'), 'date': '04-20-2023', 'news': 'Q1 2023 American Express Co Earnings Call', 'entities': ['American Express Co'], 'search_term': 'American Express', 'source': 'yfinance'}\n",
      "{'_id': ObjectId('6446b288e1a37fad9d8b7636'), 'date': '04-21-2023', 'news': 'The Boeing Company (NYSE:BA) Shares Could Be 43% Below Their Intrinsic Value Estimate', 'entities': ['Boeing Company'], 'search_term': 'Boeing', 'source': 'yfinance'}\n",
      "{'_id': ObjectId('6446b288e1a37fad9d8b7637'), 'date': '04-16-2023', 'news': '3 Dividend Stocks for Decades of Passive Income', 'entities': [], 'search_term': 'Caterpillar', 'source': 'yfinance'}\n",
      "{'_id': ObjectId('6446b288e1a37fad9d8b7638'), 'date': '04-19-2023', 'news': 'Is Salesforce Stock A Buy As Activist Investors Drive Big Changes?', 'entities': [], 'search_term': 'Salesforce', 'source': 'yfinance'}\n",
      "{'_id': ObjectId('6446b288e1a37fad9d8b7639'), 'date': '04-20-2023', 'news': 'Here is What to Know Beyond Why Cisco Systems, Inc. (CSCO) is a Trending Stock', 'entities': ['Cisco Systems , Inc', 'CSCO'], 'search_term': 'Cisco Systems', 'source': 'yfinance'}\n",
      "{'_id': ObjectId('6446b288e1a37fad9d8b763a'), 'date': '04-24-2023', 'news': \"47% of Warren Buffett's More Than $6.1 Billion in Annual Dividend Income Comes From These 3 Stocks\", 'entities': [], 'search_term': 'Chevron', 'source': 'yfinance'}\n",
      "{'_id': ObjectId('6446b288e1a37fad9d8b763b'), 'date': '04-24-2023', 'news': 'Better Buy: Amazon vs. Disney', 'entities': ['Disney'], 'search_term': 'Walt Disney', 'source': 'yfinance'}\n",
      "{'_id': ObjectId('6446b288e1a37fad9d8b763c'), 'date': '04-18-2023', 'news': 'Investing in A.I.: Nvidia stock soars with growth of ChatGPT', 'entities': ['A I', 'Nvidia', 'ChaGP'], 'search_term': 'Dow ', 'source': 'yfinance'}\n",
      "{'_id': ObjectId('6446b288e1a37fad9d8b763d'), 'date': '04-21-2023', 'news': 'With 69% ownership, The Goldman Sachs Group, Inc. (NYSE:GS) boasts of strong institutional backing', 'entities': ['Goldman Sachs Group , Inc', 'G'], 'search_term': 'Goldman Sachs Group', 'source': 'yfinance'}\n",
      "{'_id': ObjectId('6446b288e1a37fad9d8b763e'), 'date': '04-19-2023', 'news': 'Better Buy: Costco vs. Home Depot', 'entities': ['Costco', 'Home Depot'], 'search_term': 'Home Depot', 'source': 'yfinance'}\n",
      "{'_id': ObjectId('6446b288e1a37fad9d8b763f'), 'date': '04-17-2023', 'news': 'Nasdaq Bear Market: 2 Excellent Stocks to Buy at a Discount', 'entities': [], 'search_term': 'Honeywell International', 'source': 'yfinance'}\n",
      "{'_id': ObjectId('6446b288e1a37fad9d8b7640'), 'date': '04-23-2023', 'news': 'Those who invested in International Business Machines (NYSE:IBM) five years ago are up 14%', 'entities': ['International Business Machines', 'IBM'], 'search_term': 'IBM', 'source': 'yfinance'}\n",
      "{'_id': ObjectId('6446b288e1a37fad9d8b7641'), 'date': '04-21-2023', 'news': 'A Look At The Intrinsic Value Of Intel Corporation (NASDAQ:INTC)', 'entities': ['Intel Corporation', 'IN'], 'search_term': 'Intel', 'source': 'yfinance'}\n",
      "{'_id': ObjectId('6446b288e1a37fad9d8b7642'), 'date': '04-22-2023', 'news': '3 Top Dividend Kings to Buy for the Long Haul', 'entities': [], 'search_term': 'Johnson & Johnson', 'source': 'yfinance'}\n",
      "{'_id': ObjectId('6446b288e1a37fad9d8b7643'), 'date': '04-21-2023', 'news': 'JPMorgan bankers met with Epstein after his accounts were closed - WSJ', 'entities': ['JPMorgan'], 'search_term': 'JP Morgan', 'source': 'yfinance'}\n",
      "{'_id': ObjectId('6446b288e1a37fad9d8b7644'), 'date': '04-24-2023', 'news': \"Coca-Cola's Q1 Performance: Tops Expectations, Sees Volume And Margin Uptick, Reaffirms Outlook\", 'entities': ['Coca - Cola'], 'search_term': 'Coca-Cola', 'source': 'yfinance'}\n",
      "{'_id': ObjectId('6446b288e1a37fad9d8b7645'), 'date': '04-21-2023', 'news': \"McDonald's (MCD) Outpaces Stock Market Gains: What You Should Know\", 'entities': [\"McDonald ' s\", 'MCD Stock'], 'search_term': 'McDonalds', 'source': 'yfinance'}\n",
      "{'_id': ObjectId('6446b288e1a37fad9d8b7646'), 'date': '04-18-2023', 'news': 'Earnings Preview: 3M (MMM) Q1 Earnings Expected to Decline', 'entities': [], 'search_term': '3M Company', 'source': 'yfinance'}\n",
      "{'_id': ObjectId('6446b288e1a37fad9d8b7647'), 'date': '04-18-2023', 'news': 'Prometheus Biosciences, Inc. (RXDX) Stock Jumps 69.7%: Will It Continue to Soar?', 'entities': ['Prometheus Biosciences , Inc', 'RDX'], 'search_term': 'Merck & Company', 'source': 'yfinance'}\n",
      "{'_id': ObjectId('6446b288e1a37fad9d8b7648'), 'date': '04-24-2023', 'news': \"Do Big Tech's Custom Chips Pose a Threat to Nvidia Shareholders?\", 'entities': ['Big Tech', 'Nvidia'], 'search_term': 'Microsoft', 'source': 'yfinance'}\n",
      "{'_id': ObjectId('6446b288e1a37fad9d8b7649'), 'date': '04-18-2023', 'news': \"Not So Wonderful News From Roblox's Digital Wonderland\", 'entities': [], 'search_term': 'Nike', 'source': 'yfinance'}\n",
      "{'_id': ObjectId('6446b288e1a37fad9d8b764a'), 'date': '04-21-2023', 'news': 'Q3 2023 Procter & Gamble Co Earnings Call', 'entities': ['Procter & Gamble Co Enings Call'], 'search_term': 'Procter & Gamble', 'source': 'yfinance'}\n",
      "{'_id': ObjectId('6446b288e1a37fad9d8b764b'), 'date': '04-19-2023', 'news': 'UPDATE 3-Insurer Travelers profit falls as costs from severe storms bite', 'entities': [], 'search_term': 'The Travelers', 'source': 'yfinance'}\n",
      "{'_id': ObjectId('6446b288e1a37fad9d8b764c'), 'date': '04-20-2023', 'news': \"Five S&P 500 Stocks To Buy And Watch In Today's Market\", 'entities': ['S & P'], 'search_term': 'United Health Group', 'source': 'yfinance'}\n",
      "{'_id': ObjectId('6446b288e1a37fad9d8b764d'), 'date': '04-20-2023', 'news': \"Can Visa's (V) Q2 Earnings Beat Estimates on Higher Volumes?\", 'entities': ['Visa'], 'search_term': 'Visa ', 'source': 'yfinance'}\n",
      "{'_id': ObjectId('6446b288e1a37fad9d8b764e'), 'date': '04-22-2023', 'news': \"T-Mobile's Latest Move Gives Verizon, AT&T the Proverbial Finger\", 'entities': ['T - Mobile', 'Verizon', 'AT & T'], 'search_term': 'Verizon Communications', 'source': 'yfinance'}\n",
      "{'_id': ObjectId('6446b288e1a37fad9d8b764f'), 'date': '04-14-2023', 'news': '3 Dividend Stocks With a 5% Yield on Sale Now', 'entities': [], 'search_term': 'Walgreens', 'source': 'yfinance'}\n",
      "{'_id': ObjectId('6446b288e1a37fad9d8b7650'), 'date': '04-22-2023', 'news': '8 New Items To Check Out at Walmart in April', 'entities': ['Walmart'], 'search_term': 'Walmart ', 'source': 'yfinance'}\n"
     ]
    }
   ],
   "source": [
    "client = MongoClient('mongodb://localhost:27017') ## or MongoClient(\"localhost:27\")\n",
    "db = client.test_db\n",
    "collection = db.test\n",
    "for doc in collection.find():\n",
    "    print(doc)"
   ]
  },
  {
   "cell_type": "code",
   "execution_count": 24,
   "metadata": {},
   "outputs": [
    {
     "name": "stdout",
     "output_type": "stream",
     "text": [
      "{'date': '04-23-2023', 'news': 'Bed Bath & Beyond came out of the 2008 downturn a winner. While competitors like Sharper Image and Linens ’n Things filed for bankruptcy, Bed Bath & Beyond actually expanded its business by acquiring other retailers. Its home-goods emporiums full of towels and kitchen aids — all available at a reduced price with that Big Blue coupon — were beacons that kept shoppers coming back.', 'entities': ['Bed Bath & Beyond', 'Sharper Image', 'Linens ’ n Things', 'Bed Bath & Beyond'], 'search_term': 'Stock Market', 'source': 'nyt'}\n",
      "{'date': '04-23-2023', 'news': 'One Sunday in February, in a northern Italian town called Ivrea, the facades of historic buildings were covered with plastic sheeting and nets. And in several different piazzas, hundreds of wooden crates had appeared. Inside them were oranges. Oranges, the fruit.', 'entities': [], 'search_term': 'Apple', 'source': 'nyt'}\n",
      "{'date': '04-23-2023', 'news': '“How can a nation founded on the homelands of dispossessed Indigenous peoples be the world’s most exemplary democracy?” This is the provocative question with which Ned Blackhawk opens his important new book, “The Rediscovery of America: Native Peoples and the Unmaking of U.S. History.” A historian at Yale and a member of the Te-Moak Tribe of Western Shoshone, Blackhawk rejects the myth that Native Americans fell quick and easy victims to European invaders. Instead, he asserts that “American Indians were central to every century of U.S. historical development.”', 'entities': ['Yale', 'Te - Moak Tribe'], 'search_term': 'American Express', 'source': 'nyt'}\n",
      "{'date': '04-23-2023', 'news': 'I must have overslept the day most Black people learned the electric slide in the early ’90s. In the time before YouTube, you had to master dances by waiting for the music video to be played on Black Entertainment Television, then practice the moves with your friends. But I kept missing it. I didn’t think it was that big a deal. It was a fad, sure to be replaced by the next craze.', 'entities': ['YouTube', 'Black Entertainment Television'], 'search_term': 'American Express', 'source': 'nyt'}\n",
      "{'date': '04-23-2023', 'news': 'On June 26, 2018, our family experienced one of the most terrifying nights of our lives. It began with a strange and chilling direct message to our son — an image of three Klan hoods. That was strange enough, but sadly not all that surprising. From the moment that I’d first expressed opposition to Donald Trump and Trumpism, our multiracial family (my youngest daughter, who is adopted, is Black) had faced an avalanche of threats, doxxing and vile racism.', 'entities': [], 'search_term': 'American Express', 'source': 'nyt'}\n",
      "{'date': '04-23-2023', 'news': 'Bert Ellis, with two degrees from the University of Virginia, is a loyal alumnus. He has donated more than $10 million to his alma mater, and even co-owns a campus hangout, the Spot.', 'entities': ['University of Virginia'], 'search_term': 'American Express', 'source': 'nyt'}\n",
      "{'date': '04-23-2023', 'news': 'Those who invested in International Business Machines (NYSE:IBM) five years ago are up 14%', 'entities': ['International Business Machines', 'IBM'], 'search_term': 'IBM', 'source': 'yfinance'}\n"
     ]
    }
   ],
   "source": [
    "#let's check the data for the past day\n",
    "yesterday = ((datetime.datetime.today()) - datetime.timedelta(days=1)).strftime('%m-%d-%Y')\n",
    "query = {\n",
    "    'date': {'$eq': yesterday}\n",
    "}\n",
    "for doc in collection.find(query,{'_id': 0}):\n",
    "    print(doc)"
   ]
  },
  {
   "cell_type": "code",
   "execution_count": null,
   "metadata": {},
   "outputs": [],
   "source": []
  }
 ],
 "metadata": {
  "kernelspec": {
   "display_name": "venv",
   "language": "python",
   "name": "python3"
  },
  "language_info": {
   "codemirror_mode": {
    "name": "ipython",
    "version": 3
   },
   "file_extension": ".py",
   "mimetype": "text/x-python",
   "name": "python",
   "nbconvert_exporter": "python",
   "pygments_lexer": "ipython3",
   "version": "3.10.10"
  },
  "orig_nbformat": 4,
  "vscode": {
   "interpreter": {
    "hash": "144286843eae87eba92616ffd8565717281575149749e5dfe4b0fd49c55567d1"
   }
  }
 },
 "nbformat": 4,
 "nbformat_minor": 2
}
