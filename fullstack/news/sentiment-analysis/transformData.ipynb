{
 "cells": [
  {
   "cell_type": "code",
   "execution_count": 2,
   "metadata": {},
   "outputs": [],
   "source": [
    "import requests, datetime\n",
    "from pymongo import MongoClient"
   ]
  },
  {
   "attachments": {},
   "cell_type": "markdown",
   "metadata": {},
   "source": [
    "In this notebook, we are gonna take a look at raw news data, and then call an endpoint to transform the data.\n"
   ]
  },
  {
   "cell_type": "code",
   "execution_count": 4,
   "metadata": {},
   "outputs": [],
   "source": [
    "#connect to raw extracted data\n",
    "client = MongoClient('mongodb://localhost:27017') ## or MongoClient(\"localhost:27\")\n",
    "db = client.test_db\n",
    "collection = db.test"
   ]
  },
  {
   "cell_type": "code",
   "execution_count": 5,
   "metadata": {},
   "outputs": [
    {
     "name": "stdout",
     "output_type": "stream",
     "text": [
      "{'date': '04-23-2023', 'news': 'Bed Bath & Beyond came out of the 2008 downturn a winner. While competitors like Sharper Image and Linens ’n Things filed for bankruptcy, Bed Bath & Beyond actually expanded its business by acquiring other retailers. Its home-goods emporiums full of towels and kitchen aids — all available at a reduced price with that Big Blue coupon — were beacons that kept shoppers coming back.', 'entities': ['Bed Bath & Beyond', 'Sharper Image', 'Linens ’ n Things', 'Bed Bath & Beyond'], 'search_term': 'Stock Market', 'source': 'nyt'}\n",
      "{'date': '04-23-2023', 'news': 'One Sunday in February, in a northern Italian town called Ivrea, the facades of historic buildings were covered with plastic sheeting and nets. And in several different piazzas, hundreds of wooden crates had appeared. Inside them were oranges. Oranges, the fruit.', 'entities': [], 'search_term': 'Apple', 'source': 'nyt'}\n",
      "{'date': '04-23-2023', 'news': '“How can a nation founded on the homelands of dispossessed Indigenous peoples be the world’s most exemplary democracy?” This is the provocative question with which Ned Blackhawk opens his important new book, “The Rediscovery of America: Native Peoples and the Unmaking of U.S. History.” A historian at Yale and a member of the Te-Moak Tribe of Western Shoshone, Blackhawk rejects the myth that Native Americans fell quick and easy victims to European invaders. Instead, he asserts that “American Indians were central to every century of U.S. historical development.”', 'entities': ['Yale', 'Te - Moak Tribe'], 'search_term': 'American Express', 'source': 'nyt'}\n",
      "{'date': '04-23-2023', 'news': 'I must have overslept the day most Black people learned the electric slide in the early ’90s. In the time before YouTube, you had to master dances by waiting for the music video to be played on Black Entertainment Television, then practice the moves with your friends. But I kept missing it. I didn’t think it was that big a deal. It was a fad, sure to be replaced by the next craze.', 'entities': ['YouTube', 'Black Entertainment Television'], 'search_term': 'American Express', 'source': 'nyt'}\n",
      "{'date': '04-23-2023', 'news': 'On June 26, 2018, our family experienced one of the most terrifying nights of our lives. It began with a strange and chilling direct message to our son — an image of three Klan hoods. That was strange enough, but sadly not all that surprising. From the moment that I’d first expressed opposition to Donald Trump and Trumpism, our multiracial family (my youngest daughter, who is adopted, is Black) had faced an avalanche of threats, doxxing and vile racism.', 'entities': [], 'search_term': 'American Express', 'source': 'nyt'}\n",
      "{'date': '04-23-2023', 'news': 'Bert Ellis, with two degrees from the University of Virginia, is a loyal alumnus. He has donated more than $10 million to his alma mater, and even co-owns a campus hangout, the Spot.', 'entities': ['University of Virginia'], 'search_term': 'American Express', 'source': 'nyt'}\n",
      "{'date': '04-23-2023', 'news': 'Those who invested in International Business Machines (NYSE:IBM) five years ago are up 14%', 'entities': ['International Business Machines', 'IBM'], 'search_term': 'IBM', 'source': 'yfinance'}\n"
     ]
    }
   ],
   "source": [
    "#let's check the raw data for the past day\n",
    "yesterday = ((datetime.datetime.today()) - datetime.timedelta(days=1)).strftime('%m-%d-%Y')\n",
    "query = {\n",
    "    'date': {'$eq': yesterday}\n",
    "}\n",
    "for doc in collection.find(query,{'_id': 0}):\n",
    "    print(doc)"
   ]
  },
  {
   "attachments": {},
   "cell_type": "markdown",
   "metadata": {},
   "source": [
    "We have a few things to note here:\n",
    "1. When we are querying from Yahoo Finance for specific stock data, we are getting relevant data as opposed to stock data sourced from NYT or MediaStack. For example:\n",
    "   ```\n",
    "   {'date': '04-23-2023', 'news': 'Those who invested in International Business Machines (NYSE:IBM) five years ago are up 14%', 'entities': ['International Business Machines', 'IBM'], 'search_term': 'IBM', 'source': 'yfinance'}\n",
    "   ```\n",
    "   We see that the news is related to IBM, whereas the following:\n",
    "   ```\n",
    "   {'date': '04-23-2023', 'news': 'I must have overslept the day most Black people learned the electric slide in the early ’90s. In the time before YouTube, you had to master dances by waiting for the music video to be played on Black Entertainment Television, then practice the moves with your friends. But I kept missing it. I didn’t think it was that big a deal. It was a fad, sure to be replaced by the next craze.', 'entities': ['YouTube', 'Black Entertainment Television'], 'search_term': 'American Express', 'source': 'nyt'}\n",
    "   ```\n",
    "   this news is not relevant to American Express. When using the NYT API, we are querying for keywords to get relevant news and that becomes a problem since this news returned to us was more relevant to America as opposed to the company American Express\n",
    "   "
   ]
  },
  {
   "attachments": {},
   "cell_type": "markdown",
   "metadata": {},
   "source": [
    "Therefore, we want to make sure that our sentiment analysis model only gets the transformed data where the news being provided is relevant to the stock we are working on."
   ]
  },
  {
   "cell_type": "code",
   "execution_count": 6,
   "metadata": {},
   "outputs": [
    {
     "name": "stdout",
     "output_type": "stream",
     "text": [
      "{'message': 'Successfully pushed transformed data to mongo'}\n"
     ]
    }
   ],
   "source": [
    "#make sure the sentiment-analysis flask app is listening on port 8002\n",
    "url = 'http://localhost:8002/transform'\n",
    "\n",
    "response = requests.get(url)\n",
    "\n",
    "print(response.json())"
   ]
  },
  {
   "cell_type": "code",
   "execution_count": 7,
   "metadata": {},
   "outputs": [
    {
     "name": "stdout",
     "output_type": "stream",
     "text": [
      "{'_id': ObjectId('6446cf1e0bb99a0ef0b45ac6'), 'date': '04-23-2023', 'news': 'Bed Bath & Beyond came out of the 2008 downturn a winner. While competitors like Sharper Image and Linens ’n Things filed for bankruptcy, Bed Bath & Beyond actually expanded its business by acquiring other retailers. Its home-goods emporiums full of towels and kitchen aids — all available at a reduced price with that Big Blue coupon — were beacons that kept shoppers coming back.', 'entities': ['Bed Bath & Beyond', 'Sharper Image', 'Linens ’ n Things', 'Bed Bath & Beyond'], 'search_term': 'Stock Market', 'source': 'nyt'}\n",
      "{'_id': ObjectId('6446cf1e0bb99a0ef0b45ac7'), 'date': '04-23-2023', 'news': 'Those who invested in International Business Machines (NYSE:IBM) five years ago are up 14%', 'entities': ['International Business Machines', 'IBM'], 'search_term': 'IBM', 'source': 'yfinance'}\n"
     ]
    }
   ],
   "source": [
    "#let's look at the transformed data\n",
    "db = client.test_db\n",
    "collection = db.transformedData\n",
    "for doc in collection.find():\n",
    "    print(doc)"
   ]
  },
  {
   "attachments": {},
   "cell_type": "markdown",
   "metadata": {},
   "source": [
    "As can be seen, we now do not have any irrelevant data in our database. We can now use this transformed data into our sentiment analysis model"
   ]
  },
  {
   "cell_type": "code",
   "execution_count": null,
   "metadata": {},
   "outputs": [],
   "source": []
  }
 ],
 "metadata": {
  "kernelspec": {
   "display_name": "venv",
   "language": "python",
   "name": "python3"
  },
  "language_info": {
   "codemirror_mode": {
    "name": "ipython",
    "version": 3
   },
   "file_extension": ".py",
   "mimetype": "text/x-python",
   "name": "python",
   "nbconvert_exporter": "python",
   "pygments_lexer": "ipython3",
   "version": "3.10.10"
  },
  "orig_nbformat": 4,
  "vscode": {
   "interpreter": {
    "hash": "144286843eae87eba92616ffd8565717281575149749e5dfe4b0fd49c55567d1"
   }
  }
 },
 "nbformat": 4,
 "nbformat_minor": 2
}
